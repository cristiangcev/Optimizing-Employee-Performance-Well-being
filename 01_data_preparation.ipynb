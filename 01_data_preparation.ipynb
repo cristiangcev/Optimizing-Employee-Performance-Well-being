{
  "nbformat": 4,
  "nbformat_minor": 0,
  "metadata": {
    "colab": {
      "provenance": []
    },
    "kernelspec": {
      "name": "python3",
      "display_name": "Python 3"
    },
    "language_info": {
      "name": "python"
    }
  },
  "cells": [
    {
      "cell_type": "markdown",
      "source": [
        "#Phase 1: Data Acquisition & Preparation\n",
        "This foundational phase focuses on gathering and transforming raw data into a clean, usable format suitable for analysis.\n",
        "\n",
        "* Data Loading:\n",
        "    * Load the HRDataset_v14.csv file into a pandas DataFrame to begin using it.\n",
        "* Initial Data Inspection:\n",
        "    * Examine the first 5 rows (df.head()) to quickly grasp the data structure.\n",
        "    * Inspect column names, data types, and identify non-null counts using df.info() and df.dtypes.\n",
        "    * Confirm the overall dimensions of the dataset (number of rows and columns).\n",
        "\n",
        "\n",
        "\n"
      ],
      "metadata": {
        "id": "ljzZ_nbKe86j"
      }
    },
    {
      "cell_type": "code",
      "execution_count": null,
      "metadata": {
        "colab": {
          "base_uri": "https://localhost:8080/"
        },
        "id": "Xa7DaUVLQj6r",
        "outputId": "3d605c97-183a-494d-bfb1-309b6ad12eb1"
      },
      "outputs": [
        {
          "output_type": "stream",
          "name": "stdout",
          "text": [
            "<class 'pandas.core.frame.DataFrame'>\n",
            "RangeIndex: 311 entries, 0 to 310\n",
            "Data columns (total 36 columns):\n",
            " #   Column                      Non-Null Count  Dtype  \n",
            "---  ------                      --------------  -----  \n",
            " 0   Employee_Name               311 non-null    object \n",
            " 1   EmpID                       311 non-null    int64  \n",
            " 2   MarriedID                   311 non-null    int64  \n",
            " 3   MaritalStatusID             311 non-null    int64  \n",
            " 4   GenderID                    311 non-null    int64  \n",
            " 5   EmpStatusID                 311 non-null    int64  \n",
            " 6   DeptID                      311 non-null    int64  \n",
            " 7   PerfScoreID                 311 non-null    int64  \n",
            " 8   FromDiversityJobFairID      311 non-null    int64  \n",
            " 9   Salary                      311 non-null    int64  \n",
            " 10  Termd                       311 non-null    int64  \n",
            " 11  PositionID                  311 non-null    int64  \n",
            " 12  Position                    311 non-null    object \n",
            " 13  State                       311 non-null    object \n",
            " 14  Zip                         311 non-null    int64  \n",
            " 15  DOB                         311 non-null    object \n",
            " 16  Sex                         311 non-null    object \n",
            " 17  MaritalDesc                 311 non-null    object \n",
            " 18  CitizenDesc                 311 non-null    object \n",
            " 19  HispanicLatino              311 non-null    object \n",
            " 20  RaceDesc                    311 non-null    object \n",
            " 21  DateofHire                  311 non-null    object \n",
            " 22  DateofTermination           104 non-null    object \n",
            " 23  TermReason                  311 non-null    object \n",
            " 24  EmploymentStatus            311 non-null    object \n",
            " 25  Department                  311 non-null    object \n",
            " 26  ManagerName                 311 non-null    object \n",
            " 27  ManagerID                   303 non-null    float64\n",
            " 28  RecruitmentSource           311 non-null    object \n",
            " 29  PerformanceScore            311 non-null    object \n",
            " 30  EngagementSurvey            311 non-null    float64\n",
            " 31  EmpSatisfaction             311 non-null    int64  \n",
            " 32  SpecialProjectsCount        311 non-null    int64  \n",
            " 33  LastPerformanceReview_Date  311 non-null    object \n",
            " 34  DaysLateLast30              311 non-null    int64  \n",
            " 35  Absences                    311 non-null    int64  \n",
            "dtypes: float64(2), int64(16), object(18)\n",
            "memory usage: 87.6+ KB\n"
          ]
        }
      ],
      "source": [
        "import pandas as pd\n",
        "df = pd.read_csv('HRDataset_v14.csv')\n",
        "df.head()\n",
        "df.info()"
      ]
    },
    {
      "cell_type": "code",
      "source": [
        "# Convert date objects into datetime data types for later analysis\n",
        "df['DateofTermination'] = pd.to_datetime(df['DateofTermination'], errors='coerce')\n",
        "df['DOB'] = pd.to_datetime(df['DOB'], errors='coerce')\n",
        "df['DateofHire'] = pd.to_datetime(df['DateofHire'], errors='coerce')\n",
        "df['LastPerformanceReview_Date'] = pd.to_datetime(df['LastPerformanceReview_Date'], errors='coerce')\n",
        "# Check that the date times were succesfully re-formated\n",
        "df.info()"
      ],
      "metadata": {
        "colab": {
          "base_uri": "https://localhost:8080/"
        },
        "id": "mHe52B1kXYrI",
        "outputId": "c9185c4d-dba4-4dc1-af1b-7900fb6d6549"
      },
      "execution_count": null,
      "outputs": [
        {
          "output_type": "stream",
          "name": "stdout",
          "text": [
            "<class 'pandas.core.frame.DataFrame'>\n",
            "RangeIndex: 311 entries, 0 to 310\n",
            "Data columns (total 36 columns):\n",
            " #   Column                      Non-Null Count  Dtype         \n",
            "---  ------                      --------------  -----         \n",
            " 0   Employee_Name               311 non-null    object        \n",
            " 1   EmpID                       311 non-null    int64         \n",
            " 2   MarriedID                   311 non-null    int64         \n",
            " 3   MaritalStatusID             311 non-null    int64         \n",
            " 4   GenderID                    311 non-null    int64         \n",
            " 5   EmpStatusID                 311 non-null    int64         \n",
            " 6   DeptID                      311 non-null    int64         \n",
            " 7   PerfScoreID                 311 non-null    int64         \n",
            " 8   FromDiversityJobFairID      311 non-null    int64         \n",
            " 9   Salary                      311 non-null    int64         \n",
            " 10  Termd                       311 non-null    int64         \n",
            " 11  PositionID                  311 non-null    int64         \n",
            " 12  Position                    311 non-null    object        \n",
            " 13  State                       311 non-null    object        \n",
            " 14  Zip                         311 non-null    int64         \n",
            " 15  DOB                         311 non-null    datetime64[ns]\n",
            " 16  Sex                         311 non-null    object        \n",
            " 17  MaritalDesc                 311 non-null    object        \n",
            " 18  CitizenDesc                 311 non-null    object        \n",
            " 19  HispanicLatino              311 non-null    object        \n",
            " 20  RaceDesc                    311 non-null    object        \n",
            " 21  DateofHire                  311 non-null    datetime64[ns]\n",
            " 22  DateofTermination           104 non-null    datetime64[ns]\n",
            " 23  TermReason                  311 non-null    object        \n",
            " 24  EmploymentStatus            311 non-null    object        \n",
            " 25  Department                  311 non-null    object        \n",
            " 26  ManagerName                 311 non-null    object        \n",
            " 27  ManagerID                   303 non-null    float64       \n",
            " 28  RecruitmentSource           311 non-null    object        \n",
            " 29  PerformanceScore            311 non-null    object        \n",
            " 30  EngagementSurvey            311 non-null    float64       \n",
            " 31  EmpSatisfaction             311 non-null    int64         \n",
            " 32  SpecialProjectsCount        311 non-null    int64         \n",
            " 33  LastPerformanceReview_Date  311 non-null    datetime64[ns]\n",
            " 34  DaysLateLast30              311 non-null    int64         \n",
            " 35  Absences                    311 non-null    int64         \n",
            "dtypes: datetime64[ns](4), float64(2), int64(16), object(14)\n",
            "memory usage: 87.6+ KB\n"
          ]
        },
        {
          "output_type": "stream",
          "name": "stderr",
          "text": [
            "<ipython-input-49-d15015cea531>:3: UserWarning: Could not infer format, so each element will be parsed individually, falling back to `dateutil`. To ensure parsing is consistent and as-expected, please specify a format.\n",
            "  df['DOB'] = pd.to_datetime(df['DOB'], errors='coerce')\n"
          ]
        }
      ]
    },
    {
      "cell_type": "code",
      "source": [
        "# Select only the rows that show a missing value for the ManagerID\n",
        "df[df['ManagerID'].isnull()][['Employee_Name', 'Position']]\n",
        "# Convert the NaN values to 0\n",
        "df['ManagerID'] = df['ManagerID'].fillna(0)\n",
        "# Confirm that the new datatype is int64 not float64\n",
        "df['ManagerID'] = df['ManagerID'].astype(int)\n",
        "# Check that the missing values were imputated\n",
        "df.info()"
      ],
      "metadata": {
        "colab": {
          "base_uri": "https://localhost:8080/"
        },
        "id": "PXDxspGzaTg2",
        "outputId": "7072b209-f30d-449d-d7a8-2dc99f4cf437"
      },
      "execution_count": null,
      "outputs": [
        {
          "output_type": "stream",
          "name": "stdout",
          "text": [
            "<class 'pandas.core.frame.DataFrame'>\n",
            "RangeIndex: 311 entries, 0 to 310\n",
            "Data columns (total 36 columns):\n",
            " #   Column                      Non-Null Count  Dtype         \n",
            "---  ------                      --------------  -----         \n",
            " 0   Employee_Name               311 non-null    object        \n",
            " 1   EmpID                       311 non-null    int64         \n",
            " 2   MarriedID                   311 non-null    int64         \n",
            " 3   MaritalStatusID             311 non-null    int64         \n",
            " 4   GenderID                    311 non-null    int64         \n",
            " 5   EmpStatusID                 311 non-null    int64         \n",
            " 6   DeptID                      311 non-null    int64         \n",
            " 7   PerfScoreID                 311 non-null    int64         \n",
            " 8   FromDiversityJobFairID      311 non-null    int64         \n",
            " 9   Salary                      311 non-null    int64         \n",
            " 10  Termd                       311 non-null    int64         \n",
            " 11  PositionID                  311 non-null    int64         \n",
            " 12  Position                    311 non-null    object        \n",
            " 13  State                       311 non-null    object        \n",
            " 14  Zip                         311 non-null    int64         \n",
            " 15  DOB                         311 non-null    datetime64[ns]\n",
            " 16  Sex                         311 non-null    object        \n",
            " 17  MaritalDesc                 311 non-null    object        \n",
            " 18  CitizenDesc                 311 non-null    object        \n",
            " 19  HispanicLatino              311 non-null    object        \n",
            " 20  RaceDesc                    311 non-null    object        \n",
            " 21  DateofHire                  311 non-null    datetime64[ns]\n",
            " 22  DateofTermination           104 non-null    datetime64[ns]\n",
            " 23  TermReason                  311 non-null    object        \n",
            " 24  EmploymentStatus            311 non-null    object        \n",
            " 25  Department                  311 non-null    object        \n",
            " 26  ManagerName                 311 non-null    object        \n",
            " 27  ManagerID                   311 non-null    int64         \n",
            " 28  RecruitmentSource           311 non-null    object        \n",
            " 29  PerformanceScore            311 non-null    object        \n",
            " 30  EngagementSurvey            311 non-null    float64       \n",
            " 31  EmpSatisfaction             311 non-null    int64         \n",
            " 32  SpecialProjectsCount        311 non-null    int64         \n",
            " 33  LastPerformanceReview_Date  311 non-null    datetime64[ns]\n",
            " 34  DaysLateLast30              311 non-null    int64         \n",
            " 35  Absences                    311 non-null    int64         \n",
            "dtypes: datetime64[ns](4), float64(1), int64(17), object(14)\n",
            "memory usage: 87.6+ KB\n"
          ]
        }
      ]
    },
    {
      "cell_type": "markdown",
      "source": [
        "# Feature Engineering:\n",
        "* **Tenure**: Calculate the length of an employee's service.\n",
        "  * **Age**: Compute the employee's age from DOB.\n",
        "  * **High-Absence Flag**: Create a new binary categorical variable (e.g., is_high_absent) for employees whose Absences or DaysLateLast30 exceed a defined threshold.\n",
        "  * **Performance Score Numerical Mapping**: Transform the categorical PerformanceScore into a numerical scale (e.g., 4, 3, 2, 1).\n",
        "\n",
        "* Categorical Variable Encoding:\n",
        "\n",
        "  * Prepare nominal categorical variables (e.g., Department, Position, RaceDesc) for machine learning models using One-Hot Encoding.\n",
        "\n"
      ],
      "metadata": {
        "id": "jFOlvubmhAU9"
      }
    },
    {
      "cell_type": "code",
      "source": [
        "# Conver NaN values for current employees to the current date.\n",
        "df['DateofTermination'] = df['DateofTermination'].fillna(pd.Timestamp('now'))\n",
        "\n",
        "# Create new variable 'Tenure' that counts the number of years each employee has been employed\n",
        "df['Tenure'] = ((df['DateofTermination'] - df['DateofHire']).dt.days) / 365.25\n",
        "\n",
        "# Create new variable 'Age' that counts the number of years each employee has been employed\n",
        "df['Age'] = ((pd.Timestamp('now') - df['DOB']).dt.days) / 365.25\n",
        "\n",
        "# Create a new variable 'High_Absence_Flag' that uses the 75th percentile to determine employees with \"high\" absences and assign a value of 1 (High) or 0 (Not High)\n",
        "df[['Absences', 'DaysLateLast30']].describe()\n",
        "\n",
        "# Use 15 or more absences or greater than 3 late arrivals as a 1 for the new variable and 0 otherwise\n",
        "df['High_Absence_Flag'] = ((df['Absences'] > 15) | (df['DaysLateLast30'] > 3)).astype(int)\n",
        "\n",
        "# Check how many employees are flagged as having high absences\n",
        "df['High_Absence_Flag'].value_counts()"
      ],
      "metadata": {
        "id": "jeDblUl5cqQj"
      },
      "execution_count": null,
      "outputs": []
    },
    {
      "cell_type": "code",
      "source": [
        "# Create a new dataframe that is One-Hot Encoded so that the data can be used in machine learning later on while still preserving the original dataset.\n",
        "df_encoded = pd.get_dummies(df, columns = ['Department', 'Position', 'RaceDesc'])"
      ],
      "metadata": {
        "id": "-un_p6BZnx_D"
      },
      "execution_count": null,
      "outputs": []
    },
    {
      "cell_type": "code",
      "source": [
        "# Save the human-readable dataframe with text columns\n",
        "df.to_feather('hr_data_cleaned.feather')\n",
        "\n",
        "# Save the fully encoded dataframe for machine learning\n",
        "df_encoded.to_feather('hr_data_encoded.feather')"
      ],
      "metadata": {
        "id": "-4Zja7Iwx1Fk"
      },
      "execution_count": null,
      "outputs": []
    }
  ]
}